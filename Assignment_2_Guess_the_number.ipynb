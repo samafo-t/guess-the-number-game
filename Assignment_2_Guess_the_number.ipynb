{
 "cells": [
  {
   "cell_type": "code",
   "execution_count": null,
   "metadata": {},
   "outputs": [],
   "source": [
    "## improved by adding a function for the use to input their guess\n",
    "## and using it and the end of the while loop instead of nesting it \n",
    "## inside multiple times for the user to guess again\n",
    "\n",
    "import random\n",
    "\n",
    "# Set our range of number by creating variables\n",
    "min = 1\n",
    "max = 99\n",
    "\n",
    "# Signify the start of the game\n",
    "print(\"Let's play a game!\")\n",
    "\n",
    "# Generate the number in secret\n",
    "result = random.randint(min, max)\n",
    "\n",
    "def get_guess():\n",
    "    while True:\n",
    "        try:\n",
    "            # Request the user to enter their guess\n",
    "            return int(input(f\"Guess a number between {min} and {max}: \"))\n",
    "        except ValueError:\n",
    "            print(\"That's not a valid integer. Please try again.\")\n",
    "\n",
    "# Request the user to enter their first guess\n",
    "guess = get_guess()\n",
    "\n",
    "while True:  # Commence loop\n",
    "    if guess > result:  # Check if guess is too high\n",
    "        print(f\"Your guess {guess} is too high!\") #display result and instruct user \n",
    "    elif guess < result:  # Check if guess is too low\n",
    "        print(f\"Your guess {guess} is too low!\") #display result and instruct user \n",
    "    else:  # Check if guess is equal to result\n",
    "        print(f\"Wahoo!! You guessed right! The secret number is {result}!\") #display result and congrats\n",
    "        break  # End loop if no conditions are met and guess is correct\n",
    "\n",
    "    # Get the next guess if line 29 or 31 conditions are met\n",
    "    guess = get_guess()\n"
   ]
  }
 ],
 "metadata": {
  "kernelspec": {
   "display_name": "Python 3",
   "language": "python",
   "name": "python3"
  },
  "language_info": {
   "codemirror_mode": {
    "name": "ipython",
    "version": 3
   },
   "file_extension": ".py",
   "mimetype": "text/x-python",
   "name": "python",
   "nbconvert_exporter": "python",
   "pygments_lexer": "ipython3",
   "version": "3.10.9"
  }
 },
 "nbformat": 4,
 "nbformat_minor": 2
}
