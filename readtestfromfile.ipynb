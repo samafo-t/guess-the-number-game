{
 "cells": [
  {
   "cell_type": "code",
   "execution_count": 1,
   "metadata": {},
   "outputs": [
    {
     "name": "stdout",
     "output_type": "stream",
     "text": [
      "red, tomatoes\n",
      "\n",
      "green, watermelon\n",
      "\n",
      "purple, grape\n"
     ]
    }
   ],
   "source": [
    "## read test from a filer\n",
    "with open(\"test.txt\", \"r\") as file:\n",
    "    for line in file:\n",
    "        print(line)"
   ]
  },
  {
   "cell_type": "code",
   "execution_count": 2,
   "metadata": {},
   "outputs": [
    {
     "name": "stdout",
     "output_type": "stream",
     "text": [
      "red  tomatoes\n",
      "\n",
      "green  watermelon\n",
      "\n",
      "purple  grape\n"
     ]
    }
   ],
   "source": [
    "## read test from a filer\n",
    "with open(\"test.txt\", \"r\") as file:\n",
    "    for line in file:\n",
    "        line = line.split(\",\")\n",
    "        print(line[0].rstrip(), line[1])"
   ]
  },
  {
   "cell_type": "code",
   "execution_count": null,
   "metadata": {},
   "outputs": [],
   "source": [
    "def save_to_file(first_name, surname, age):\n",
    "    with open(\"new_data.txt\", \"w\") as f:\n",
    "        line = \",\".join([first_name, surname, age])\n",
    "        f.write(line + \"\\n\")\n",
    "        f.close()\n",
    "first_name = input(\"Enter your first name: \")\n",
    "surname = input(\"Enter your surname: \")\n",
    "age = input(\"How old are you?: \")\n",
    "\n",
    "save_to_file(first_name, surname, age)"
   ]
  },
  {
   "cell_type": "code",
   "execution_count": 3,
   "metadata": {},
   "outputs": [
    {
     "name": "stdout",
     "output_type": "stream",
     "text": [
      "hey  stop\n",
      "you  go \n"
     ]
    }
   ],
   "source": [
    "## csv\n",
    "import csv\n",
    "with open(\"joke.csv\", \"r\") as csvfile:\n",
    "    reader = csv.reader(csvfile)\n",
    "    for line in reader:\n",
    "        print(line[0], line[1])"
   ]
  },
  {
   "cell_type": "code",
   "execution_count": 5,
   "metadata": {},
   "outputs": [],
   "source": [
    "## write to a csv file\n",
    "import csv\n",
    "\n",
    "with open(\"joy.csv\", mode = \"a\") as csv_file:\n",
    "    character_writer = csv.writer(csv_file, delimiter=\",\", quotechar='\"', quoting=csv.QUOTE_MINIMAL)\n",
    "    character_writer.writerow([\"Margo\", \"Gru\"])\n",
    "    character_writer.writerow([\"Edith\", \"Gru\"])\n",
    "    character_writer.writerow([\"Agnes\", \"Gru\"])\n",
    "\n",
    "## try challenge in 145 "
   ]
  }
 ],
 "metadata": {
  "kernelspec": {
   "display_name": "Python 3",
   "language": "python",
   "name": "python3"
  },
  "language_info": {
   "codemirror_mode": {
    "name": "ipython",
    "version": 3
   },
   "file_extension": ".py",
   "mimetype": "text/x-python",
   "name": "python",
   "nbconvert_exporter": "python",
   "pygments_lexer": "ipython3",
   "version": "3.11.7"
  }
 },
 "nbformat": 4,
 "nbformat_minor": 2
}
